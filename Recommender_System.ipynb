{
 "cells": [
  {
   "cell_type": "code",
   "execution_count": 1,
   "id": "1d894f69",
   "metadata": {},
   "outputs": [
    {
     "name": "stdout",
     "output_type": "stream",
     "text": [
      "Requirement already satisfied: wordcloud in c:\\users\\xylon\\anaconda3\\lib\\site-packages (1.8.1)\n",
      "Requirement already satisfied: numpy>=1.6.1 in c:\\users\\xylon\\appdata\\roaming\\python\\python38\\site-packages (from wordcloud) (1.19.5)\n",
      "Requirement already satisfied: pillow in c:\\users\\xylon\\anaconda3\\lib\\site-packages (from wordcloud) (8.2.0)\n",
      "Requirement already satisfied: matplotlib in c:\\users\\xylon\\anaconda3\\lib\\site-packages (from wordcloud) (3.3.4)\n",
      "Requirement already satisfied: cycler>=0.10 in c:\\users\\xylon\\anaconda3\\lib\\site-packages (from matplotlib->wordcloud) (0.10.0)\n",
      "Requirement already satisfied: pyparsing!=2.0.4,!=2.1.2,!=2.1.6,>=2.0.3 in c:\\users\\xylon\\anaconda3\\lib\\site-packages (from matplotlib->wordcloud) (2.4.7)\n",
      "Requirement already satisfied: python-dateutil>=2.1 in c:\\users\\xylon\\anaconda3\\lib\\site-packages (from matplotlib->wordcloud) (2.8.1)\n",
      "Requirement already satisfied: kiwisolver>=1.0.1 in c:\\users\\xylon\\anaconda3\\lib\\site-packages (from matplotlib->wordcloud) (1.3.1)\n",
      "Requirement already satisfied: six in c:\\users\\xylon\\anaconda3\\lib\\site-packages (from cycler>=0.10->matplotlib->wordcloud) (1.15.0)\n"
     ]
    }
   ],
   "source": [
    "!pip install wordcloud"
   ]
  },
  {
   "cell_type": "code",
   "execution_count": 1,
   "id": "80198270",
   "metadata": {},
   "outputs": [],
   "source": [
    "import os\n",
    "import json\n",
    "import gzip\n",
    "import pandas as pd\n",
    "import numpy as np\n",
    "import seaborn as sns\n",
    "import nltk\n",
    "import re\n",
    "import string\n",
    "\n",
    "from tqdm import tqdm\n",
    "from matplotlib import pyplot as plt\n",
    "from urllib.request import urlopen\n",
    "from numpy.linalg import norm\n",
    "from collections import defaultdict\n",
    "from math import sqrt\n",
    "\n",
    "\n",
    "from sklearn.model_selection import train_test_split\n",
    "from sklearn.model_selection import KFold\n",
    "from sklearn.feature_selection import SelectKBest\n",
    "\n",
    "from sklearn.linear_model import LinearRegression\n",
    "from sklearn.linear_model import LogisticRegression\n",
    "from sklearn.dummy import DummyClassifier\n",
    "from sklearn.neighbors import NearestNeighbors\n",
    "from sklearn import neighbors\n",
    "\n",
    "from scipy.spatial.distance import cosine\n",
    "\n",
    "from sklearn.metrics import classification_report\n",
    "from sklearn.metrics import accuracy_score\n",
    "from sklearn.metrics import mean_squared_error\n",
    "from sklearn.metrics import roc_curve\n",
    "\n",
    "from sklearn.feature_extraction.text import CountVectorizer, TfidfVectorizer, TfidfTransformer\n",
    "\n",
    "from string import punctuation\n",
    "from nltk.corpus import stopwords\n",
    "from nltk.stem import WordNetLemmatizer\n",
    "from nltk import ngrams\n",
    "from itertools import chain\n",
    "from wordcloud import WordCloud, STOPWORDS\n",
    "from fractions import Fraction\n",
    "\n",
    "# default plot configurations \n",
    "%matplotlib inline \n",
    "plt.rcParams['figure.figsize'] = (16,8)\n",
    "plt.rcParams['figure.dpi'] = 150\n",
    "sns.set()"
   ]
  },
  {
   "cell_type": "markdown",
   "id": "d428a7a5",
   "metadata": {},
   "source": [
    "### Loading Data"
   ]
  },
  {
   "cell_type": "code",
   "execution_count": 2,
   "id": "1de8f0ff",
   "metadata": {},
   "outputs": [],
   "source": [
    "def parse(path):\n",
    "    g = gzip.open(path, 'rb')\n",
    "    for l in g:\n",
    "        yield json.loads(l)\n",
    "\n",
    "def getDF(path):\n",
    "    i = 0\n",
    "    df = {}\n",
    "    for d in parse(path):\n",
    "        df[i] = d\n",
    "        i += 1\n",
    "        if i % 500000 == 0: print(i)\n",
    "    return pd.DataFrame.from_dict(df, orient='index')"
   ]
  },
  {
   "cell_type": "code",
   "execution_count": 3,
   "id": "f0321ed4",
   "metadata": {},
   "outputs": [
    {
     "name": "stdout",
     "output_type": "stream",
     "text": [
      "Start loading review data\n",
      "500000\n",
      "1000000\n",
      "1500000\n",
      "2000000\n",
      "2500000\n",
      "3000000\n",
      "3500000\n",
      "4000000\n",
      "4500000\n",
      "5000000\n",
      "5500000\n",
      "6000000\n",
      "6500000\n",
      "7000000\n",
      "7500000\n",
      "8000000\n",
      "Finish loading review data\n",
      "8201231\n"
     ]
    }
   ],
   "source": [
    "print(\"Start loading review data\")\n",
    "review_data = getDF(r'C:\\Users\\Xylon\\Desktop\\data200_grad\\data\\Toys_and_Games.json.gz')\n",
    "print(\"Finish loading review data\")\n",
    "\n",
    "# total length of list, this number equals total number of products\n",
    "print(len(review_data))"
   ]
  },
  {
   "cell_type": "code",
   "execution_count": 4,
   "id": "9fff9c52",
   "metadata": {},
   "outputs": [
    {
     "data": {
      "text/html": [
       "<div>\n",
       "<style scoped>\n",
       "    .dataframe tbody tr th:only-of-type {\n",
       "        vertical-align: middle;\n",
       "    }\n",
       "\n",
       "    .dataframe tbody tr th {\n",
       "        vertical-align: top;\n",
       "    }\n",
       "\n",
       "    .dataframe thead th {\n",
       "        text-align: right;\n",
       "    }\n",
       "</style>\n",
       "<table border=\"1\" class=\"dataframe\">\n",
       "  <thead>\n",
       "    <tr style=\"text-align: right;\">\n",
       "      <th></th>\n",
       "      <th>overall</th>\n",
       "      <th>vote</th>\n",
       "      <th>verified</th>\n",
       "      <th>reviewTime</th>\n",
       "      <th>reviewerID</th>\n",
       "      <th>asin</th>\n",
       "      <th>reviewerName</th>\n",
       "      <th>reviewText</th>\n",
       "      <th>summary</th>\n",
       "      <th>unixReviewTime</th>\n",
       "      <th>image</th>\n",
       "      <th>style</th>\n",
       "    </tr>\n",
       "  </thead>\n",
       "  <tbody>\n",
       "    <tr>\n",
       "      <th>0</th>\n",
       "      <td>2.0</td>\n",
       "      <td>12</td>\n",
       "      <td>False</td>\n",
       "      <td>09 22, 2016</td>\n",
       "      <td>A1IDMI31WEANAF</td>\n",
       "      <td>0020232233</td>\n",
       "      <td>Mackenzie Kent</td>\n",
       "      <td>When it comes to a DM's screen, the space on t...</td>\n",
       "      <td>The fact that 50% of this space is wasted on a...</td>\n",
       "      <td>1474502400</td>\n",
       "      <td>NaN</td>\n",
       "      <td>NaN</td>\n",
       "    </tr>\n",
       "    <tr>\n",
       "      <th>1</th>\n",
       "      <td>1.0</td>\n",
       "      <td>21</td>\n",
       "      <td>False</td>\n",
       "      <td>09 18, 2016</td>\n",
       "      <td>A4BCEVVZ4Y3V3</td>\n",
       "      <td>0020232233</td>\n",
       "      <td>Jonathan Christian</td>\n",
       "      <td>An Open Letter to GaleForce9*:\\n\\nYour unpaint...</td>\n",
       "      <td>Another worthless Dungeon Master's screen from...</td>\n",
       "      <td>1474156800</td>\n",
       "      <td>NaN</td>\n",
       "      <td>NaN</td>\n",
       "    </tr>\n",
       "    <tr>\n",
       "      <th>2</th>\n",
       "      <td>3.0</td>\n",
       "      <td>19</td>\n",
       "      <td>True</td>\n",
       "      <td>09 12, 2016</td>\n",
       "      <td>A2EZ9PY1IHHBX0</td>\n",
       "      <td>0020232233</td>\n",
       "      <td>unpreparedtodie</td>\n",
       "      <td>Nice art, nice printing.  Why two panels are f...</td>\n",
       "      <td>pretty, but also pretty useless</td>\n",
       "      <td>1473638400</td>\n",
       "      <td>NaN</td>\n",
       "      <td>NaN</td>\n",
       "    </tr>\n",
       "    <tr>\n",
       "      <th>3</th>\n",
       "      <td>5.0</td>\n",
       "      <td>NaN</td>\n",
       "      <td>True</td>\n",
       "      <td>03 2, 2017</td>\n",
       "      <td>A139PXTTC2LGHZ</td>\n",
       "      <td>0020232233</td>\n",
       "      <td>Ashley</td>\n",
       "      <td>Amazing buy! Bought it as a gift for our new d...</td>\n",
       "      <td>Five Stars</td>\n",
       "      <td>1488412800</td>\n",
       "      <td>NaN</td>\n",
       "      <td>NaN</td>\n",
       "    </tr>\n",
       "    <tr>\n",
       "      <th>4</th>\n",
       "      <td>1.0</td>\n",
       "      <td>3</td>\n",
       "      <td>True</td>\n",
       "      <td>02 8, 2017</td>\n",
       "      <td>A3IB33V29XIL8O</td>\n",
       "      <td>0020232233</td>\n",
       "      <td>Oghma_EM</td>\n",
       "      <td>As my review of GF9's previous screens these w...</td>\n",
       "      <td>Money trap</td>\n",
       "      <td>1486512000</td>\n",
       "      <td>NaN</td>\n",
       "      <td>NaN</td>\n",
       "    </tr>\n",
       "  </tbody>\n",
       "</table>\n",
       "</div>"
      ],
      "text/plain": [
       "   overall vote  verified   reviewTime      reviewerID        asin  \\\n",
       "0      2.0   12     False  09 22, 2016  A1IDMI31WEANAF  0020232233   \n",
       "1      1.0   21     False  09 18, 2016   A4BCEVVZ4Y3V3  0020232233   \n",
       "2      3.0   19      True  09 12, 2016  A2EZ9PY1IHHBX0  0020232233   \n",
       "3      5.0  NaN      True   03 2, 2017  A139PXTTC2LGHZ  0020232233   \n",
       "4      1.0    3      True   02 8, 2017  A3IB33V29XIL8O  0020232233   \n",
       "\n",
       "         reviewerName                                         reviewText  \\\n",
       "0      Mackenzie Kent  When it comes to a DM's screen, the space on t...   \n",
       "1  Jonathan Christian  An Open Letter to GaleForce9*:\\n\\nYour unpaint...   \n",
       "2     unpreparedtodie  Nice art, nice printing.  Why two panels are f...   \n",
       "3              Ashley  Amazing buy! Bought it as a gift for our new d...   \n",
       "4            Oghma_EM  As my review of GF9's previous screens these w...   \n",
       "\n",
       "                                             summary  unixReviewTime image  \\\n",
       "0  The fact that 50% of this space is wasted on a...      1474502400   NaN   \n",
       "1  Another worthless Dungeon Master's screen from...      1474156800   NaN   \n",
       "2                    pretty, but also pretty useless      1473638400   NaN   \n",
       "3                                         Five Stars      1488412800   NaN   \n",
       "4                                         Money trap      1486512000   NaN   \n",
       "\n",
       "  style  \n",
       "0   NaN  \n",
       "1   NaN  \n",
       "2   NaN  \n",
       "3   NaN  \n",
       "4   NaN  "
      ]
     },
     "execution_count": 4,
     "metadata": {},
     "output_type": "execute_result"
    }
   ],
   "source": [
    "review_data.head(5)"
   ]
  },
  {
   "cell_type": "markdown",
   "id": "e1685b45",
   "metadata": {},
   "source": [
    "### Data Cleaning"
   ]
  },
  {
   "cell_type": "markdown",
   "id": "e9ac71ec",
   "metadata": {},
   "source": [
    "Technically, a user can only make 1 review at a reviewTime for a product. Therefore, we remove the duplicates which share the same reviewerID, product asin, and unixReviewTime."
   ]
  },
  {
   "cell_type": "code",
   "execution_count": 5,
   "id": "614c7451",
   "metadata": {},
   "outputs": [],
   "source": [
    "review_data.drop_duplicates(subset=['reviewerID', 'asin', 'unixReviewTime'], inplace=True)"
   ]
  },
  {
   "cell_type": "markdown",
   "id": "4829eea0",
   "metadata": {},
   "source": [
    "Extract useful columns."
   ]
  },
  {
   "cell_type": "code",
   "execution_count": 6,
   "id": "7927ac80",
   "metadata": {},
   "outputs": [],
   "source": [
    "review_data = review_data[['overall', 'reviewerID', 'asin', 'summary']]"
   ]
  },
  {
   "cell_type": "markdown",
   "id": "9c2684d2",
   "metadata": {},
   "source": [
    "Fill in 0 and \" \" for NaN values in 'vote', 'reviewText', and 'summary'. Drop the remaining NaN values."
   ]
  },
  {
   "cell_type": "code",
   "execution_count": 7,
   "id": "62cdc9ea",
   "metadata": {},
   "outputs": [],
   "source": [
    "review_data['summary'] = review_data['summary'].fillna('')"
   ]
  },
  {
   "cell_type": "code",
   "execution_count": 8,
   "id": "043e4c5e",
   "metadata": {},
   "outputs": [],
   "source": [
    "review_data = review_data.dropna()"
   ]
  },
  {
   "cell_type": "code",
   "execution_count": 9,
   "id": "b6bc57e5",
   "metadata": {},
   "outputs": [
    {
     "name": "stdout",
     "output_type": "stream",
     "text": [
      "8002579\n"
     ]
    }
   ],
   "source": [
    "print(len(review_data))"
   ]
  },
  {
   "cell_type": "code",
   "execution_count": 10,
   "id": "d7c98a37",
   "metadata": {},
   "outputs": [
    {
     "data": {
      "text/html": [
       "<div>\n",
       "<style scoped>\n",
       "    .dataframe tbody tr th:only-of-type {\n",
       "        vertical-align: middle;\n",
       "    }\n",
       "\n",
       "    .dataframe tbody tr th {\n",
       "        vertical-align: top;\n",
       "    }\n",
       "\n",
       "    .dataframe thead th {\n",
       "        text-align: right;\n",
       "    }\n",
       "</style>\n",
       "<table border=\"1\" class=\"dataframe\">\n",
       "  <thead>\n",
       "    <tr style=\"text-align: right;\">\n",
       "      <th></th>\n",
       "      <th>overall</th>\n",
       "      <th>reviewerID</th>\n",
       "      <th>asin</th>\n",
       "      <th>summary</th>\n",
       "    </tr>\n",
       "  </thead>\n",
       "  <tbody>\n",
       "    <tr>\n",
       "      <th>0</th>\n",
       "      <td>2.0</td>\n",
       "      <td>A1IDMI31WEANAF</td>\n",
       "      <td>0020232233</td>\n",
       "      <td>The fact that 50% of this space is wasted on a...</td>\n",
       "    </tr>\n",
       "    <tr>\n",
       "      <th>1</th>\n",
       "      <td>1.0</td>\n",
       "      <td>A4BCEVVZ4Y3V3</td>\n",
       "      <td>0020232233</td>\n",
       "      <td>Another worthless Dungeon Master's screen from...</td>\n",
       "    </tr>\n",
       "    <tr>\n",
       "      <th>2</th>\n",
       "      <td>3.0</td>\n",
       "      <td>A2EZ9PY1IHHBX0</td>\n",
       "      <td>0020232233</td>\n",
       "      <td>pretty, but also pretty useless</td>\n",
       "    </tr>\n",
       "    <tr>\n",
       "      <th>3</th>\n",
       "      <td>5.0</td>\n",
       "      <td>A139PXTTC2LGHZ</td>\n",
       "      <td>0020232233</td>\n",
       "      <td>Five Stars</td>\n",
       "    </tr>\n",
       "    <tr>\n",
       "      <th>4</th>\n",
       "      <td>1.0</td>\n",
       "      <td>A3IB33V29XIL8O</td>\n",
       "      <td>0020232233</td>\n",
       "      <td>Money trap</td>\n",
       "    </tr>\n",
       "  </tbody>\n",
       "</table>\n",
       "</div>"
      ],
      "text/plain": [
       "   overall      reviewerID        asin  \\\n",
       "0      2.0  A1IDMI31WEANAF  0020232233   \n",
       "1      1.0   A4BCEVVZ4Y3V3  0020232233   \n",
       "2      3.0  A2EZ9PY1IHHBX0  0020232233   \n",
       "3      5.0  A139PXTTC2LGHZ  0020232233   \n",
       "4      1.0  A3IB33V29XIL8O  0020232233   \n",
       "\n",
       "                                             summary  \n",
       "0  The fact that 50% of this space is wasted on a...  \n",
       "1  Another worthless Dungeon Master's screen from...  \n",
       "2                    pretty, but also pretty useless  \n",
       "3                                         Five Stars  \n",
       "4                                         Money trap  "
      ]
     },
     "execution_count": 10,
     "metadata": {},
     "output_type": "execute_result"
    }
   ],
   "source": [
    "review_data.head(5)"
   ]
  },
  {
   "cell_type": "markdown",
   "id": "311ce2d5",
   "metadata": {},
   "source": [
    "### Data Preprocessing"
   ]
  },
  {
   "cell_type": "markdown",
   "id": "6073f6bc",
   "metadata": {},
   "source": [
    "Select reviews of products that have more than 50 reviewers."
   ]
  },
  {
   "cell_type": "code",
   "execution_count": 23,
   "id": "e4650fd0",
   "metadata": {},
   "outputs": [],
   "source": [
    "count = review_data.groupby(\"asin\", as_index=False).count()\n",
    "\n",
    "df_merge = pd.merge(review_data, count, how='right', on=['asin'])\n",
    "\n",
    "df_merge = df_merge.rename(columns={\"overall_x\": \"overall\", \"summary_x\": \"summary\", \"reviewerID_y\": \"numReviewer\"})\n",
    "\n",
    "df_merge = df_merge.sort_values(by='numReviewer', ascending=False)\n",
    "df_50 = df_merge[df_merge['numReviewer'] >= 50]\n",
    "\n",
    "df_50 = df_50[['overall', 'asin', 'summary', 'numReviewer']]"
   ]
  },
  {
   "cell_type": "code",
   "execution_count": 24,
   "id": "d27e2d22",
   "metadata": {},
   "outputs": [
    {
     "data": {
      "text/html": [
       "<div>\n",
       "<style scoped>\n",
       "    .dataframe tbody tr th:only-of-type {\n",
       "        vertical-align: middle;\n",
       "    }\n",
       "\n",
       "    .dataframe tbody tr th {\n",
       "        vertical-align: top;\n",
       "    }\n",
       "\n",
       "    .dataframe thead th {\n",
       "        text-align: right;\n",
       "    }\n",
       "</style>\n",
       "<table border=\"1\" class=\"dataframe\">\n",
       "  <thead>\n",
       "    <tr style=\"text-align: right;\">\n",
       "      <th></th>\n",
       "      <th>overall</th>\n",
       "      <th>asin</th>\n",
       "      <th>summary</th>\n",
       "      <th>numReviewer</th>\n",
       "    </tr>\n",
       "  </thead>\n",
       "  <tbody>\n",
       "    <tr>\n",
       "      <th>2343547</th>\n",
       "      <td>5.0</td>\n",
       "      <td>B004S8F7QM</td>\n",
       "      <td>Five Stars</td>\n",
       "      <td>8815</td>\n",
       "    </tr>\n",
       "    <tr>\n",
       "      <th>2345034</th>\n",
       "      <td>5.0</td>\n",
       "      <td>B004S8F7QM</td>\n",
       "      <td>Must have for every party or adult game night.</td>\n",
       "      <td>8815</td>\n",
       "    </tr>\n",
       "    <tr>\n",
       "      <th>2345032</th>\n",
       "      <td>1.0</td>\n",
       "      <td>B004S8F7QM</td>\n",
       "      <td>Trash!</td>\n",
       "      <td>8815</td>\n",
       "    </tr>\n",
       "    <tr>\n",
       "      <th>2345031</th>\n",
       "      <td>5.0</td>\n",
       "      <td>B004S8F7QM</td>\n",
       "      <td>Five Stars</td>\n",
       "      <td>8815</td>\n",
       "    </tr>\n",
       "    <tr>\n",
       "      <th>2345030</th>\n",
       "      <td>5.0</td>\n",
       "      <td>B004S8F7QM</td>\n",
       "      <td>Expect to laugh a lot</td>\n",
       "      <td>8815</td>\n",
       "    </tr>\n",
       "  </tbody>\n",
       "</table>\n",
       "</div>"
      ],
      "text/plain": [
       "         overall        asin                                         summary  \\\n",
       "2343547      5.0  B004S8F7QM                                      Five Stars   \n",
       "2345034      5.0  B004S8F7QM  Must have for every party or adult game night.   \n",
       "2345032      1.0  B004S8F7QM                                          Trash!   \n",
       "2345031      5.0  B004S8F7QM                                      Five Stars   \n",
       "2345030      5.0  B004S8F7QM                           Expect to laugh a lot   \n",
       "\n",
       "         numReviewer  \n",
       "2343547         8815  \n",
       "2345034         8815  \n",
       "2345032         8815  \n",
       "2345031         8815  \n",
       "2345030         8815  "
      ]
     },
     "execution_count": 24,
     "metadata": {},
     "output_type": "execute_result"
    }
   ],
   "source": [
    "df_50.head(5)"
   ]
  },
  {
   "cell_type": "code",
   "execution_count": 25,
   "id": "52e22db4",
   "metadata": {},
   "outputs": [
    {
     "data": {
      "text/plain": [
       "4843224"
      ]
     },
     "execution_count": 25,
     "metadata": {},
     "output_type": "execute_result"
    }
   ],
   "source": [
    "len(df_50)"
   ]
  },
  {
   "cell_type": "markdown",
   "id": "18c9c2fd",
   "metadata": {},
   "source": [
    "Grouping all the summary reviews by product ID into lists"
   ]
  },
  {
   "cell_type": "code",
   "execution_count": 28,
   "id": "21e62b8a",
   "metadata": {},
   "outputs": [],
   "source": [
    "summary_product = df_50.groupby(\"asin\")[\"summary\"].apply(list)\n",
    "df_summary_product = pd.DataFrame(summary_product)"
   ]
  },
  {
   "cell_type": "code",
   "execution_count": 29,
   "id": "7a5b1917",
   "metadata": {},
   "outputs": [
    {
     "data": {
      "text/html": [
       "<div>\n",
       "<style scoped>\n",
       "    .dataframe tbody tr th:only-of-type {\n",
       "        vertical-align: middle;\n",
       "    }\n",
       "\n",
       "    .dataframe tbody tr th {\n",
       "        vertical-align: top;\n",
       "    }\n",
       "\n",
       "    .dataframe thead th {\n",
       "        text-align: right;\n",
       "    }\n",
       "</style>\n",
       "<table border=\"1\" class=\"dataframe\">\n",
       "  <thead>\n",
       "    <tr style=\"text-align: right;\">\n",
       "      <th></th>\n",
       "      <th>summary</th>\n",
       "    </tr>\n",
       "    <tr>\n",
       "      <th>asin</th>\n",
       "      <th></th>\n",
       "    </tr>\n",
       "  </thead>\n",
       "  <tbody>\n",
       "    <tr>\n",
       "      <th>0486448789</th>\n",
       "      <td>[Great idea..., good, but not a good price, Sh...</td>\n",
       "    </tr>\n",
       "    <tr>\n",
       "      <th>0545561647</th>\n",
       "      <td>[Three Stars, they love them, but it's a ton o...</td>\n",
       "    </tr>\n",
       "    <tr>\n",
       "      <th>0615638996</th>\n",
       "      <td>[Four Stars, Great product, Five Stars, Worth ...</td>\n",
       "    </tr>\n",
       "    <tr>\n",
       "      <th>0692770445</th>\n",
       "      <td>[The egg is a great teaching idea, The 7-year-...</td>\n",
       "    </tr>\n",
       "    <tr>\n",
       "      <th>0735333467</th>\n",
       "      <td>[Super cute but not durable, So cute!, At firs...</td>\n",
       "    </tr>\n",
       "  </tbody>\n",
       "</table>\n",
       "</div>"
      ],
      "text/plain": [
       "                                                      summary\n",
       "asin                                                         \n",
       "0486448789  [Great idea..., good, but not a good price, Sh...\n",
       "0545561647  [Three Stars, they love them, but it's a ton o...\n",
       "0615638996  [Four Stars, Great product, Five Stars, Worth ...\n",
       "0692770445  [The egg is a great teaching idea, The 7-year-...\n",
       "0735333467  [Super cute but not durable, So cute!, At firs..."
      ]
     },
     "execution_count": 29,
     "metadata": {},
     "output_type": "execute_result"
    }
   ],
   "source": [
    "df_summary_product.head(5)"
   ]
  },
  {
   "cell_type": "markdown",
   "id": "54822816",
   "metadata": {},
   "source": [
    "Append the average overall rating for each product"
   ]
  },
  {
   "cell_type": "code",
   "execution_count": 30,
   "id": "0779ba90",
   "metadata": {},
   "outputs": [],
   "source": [
    "df_mean = review_data.groupby(\"asin\", as_index=False).mean()"
   ]
  },
  {
   "cell_type": "code",
   "execution_count": 50,
   "id": "b5606880",
   "metadata": {},
   "outputs": [],
   "source": [
    "df = pd.merge(df_summary_product, df_mean, on=\"asin\", how='inner')\n",
    "df = df[['asin','summary','overall']]"
   ]
  },
  {
   "cell_type": "code",
   "execution_count": 51,
   "id": "e903211b",
   "metadata": {},
   "outputs": [],
   "source": [
    "df['summary'] = df['summary'].astype(str)"
   ]
  },
  {
   "cell_type": "code",
   "execution_count": 52,
   "id": "69566599",
   "metadata": {},
   "outputs": [
    {
     "data": {
      "text/html": [
       "<div>\n",
       "<style scoped>\n",
       "    .dataframe tbody tr th:only-of-type {\n",
       "        vertical-align: middle;\n",
       "    }\n",
       "\n",
       "    .dataframe tbody tr th {\n",
       "        vertical-align: top;\n",
       "    }\n",
       "\n",
       "    .dataframe thead th {\n",
       "        text-align: right;\n",
       "    }\n",
       "</style>\n",
       "<table border=\"1\" class=\"dataframe\">\n",
       "  <thead>\n",
       "    <tr style=\"text-align: right;\">\n",
       "      <th></th>\n",
       "      <th>asin</th>\n",
       "      <th>summary</th>\n",
       "      <th>overall</th>\n",
       "    </tr>\n",
       "  </thead>\n",
       "  <tbody>\n",
       "    <tr>\n",
       "      <th>0</th>\n",
       "      <td>0486448789</td>\n",
       "      <td>['Great idea...', 'good, but not a good price'...</td>\n",
       "      <td>3.855670</td>\n",
       "    </tr>\n",
       "    <tr>\n",
       "      <th>1</th>\n",
       "      <td>0545561647</td>\n",
       "      <td>['Three Stars', \"they love them, but it's a to...</td>\n",
       "      <td>3.950739</td>\n",
       "    </tr>\n",
       "    <tr>\n",
       "      <th>2</th>\n",
       "      <td>0615638996</td>\n",
       "      <td>['Four Stars', 'Great product', 'Five Stars', ...</td>\n",
       "      <td>4.651515</td>\n",
       "    </tr>\n",
       "    <tr>\n",
       "      <th>3</th>\n",
       "      <td>0692770445</td>\n",
       "      <td>['The egg is a great teaching idea', 'The 7-ye...</td>\n",
       "      <td>4.294872</td>\n",
       "    </tr>\n",
       "    <tr>\n",
       "      <th>4</th>\n",
       "      <td>0735333467</td>\n",
       "      <td>['Super cute but not durable', 'So cute!', 'At...</td>\n",
       "      <td>4.508475</td>\n",
       "    </tr>\n",
       "  </tbody>\n",
       "</table>\n",
       "</div>"
      ],
      "text/plain": [
       "         asin                                            summary   overall\n",
       "0  0486448789  ['Great idea...', 'good, but not a good price'...  3.855670\n",
       "1  0545561647  ['Three Stars', \"they love them, but it's a to...  3.950739\n",
       "2  0615638996  ['Four Stars', 'Great product', 'Five Stars', ...  4.651515\n",
       "3  0692770445  ['The egg is a great teaching idea', 'The 7-ye...  4.294872\n",
       "4  0735333467  ['Super cute but not durable', 'So cute!', 'At...  4.508475"
      ]
     },
     "execution_count": 52,
     "metadata": {},
     "output_type": "execute_result"
    }
   ],
   "source": [
    "df.head(5)"
   ]
  },
  {
   "cell_type": "markdown",
   "id": "8bcbc250",
   "metadata": {},
   "source": [
    "Preprocessing the summary"
   ]
  },
  {
   "cell_type": "code",
   "execution_count": 53,
   "id": "367d3b3d",
   "metadata": {},
   "outputs": [],
   "source": [
    "# tokenizer\n",
    "regEx = re.compile('[^a-z]+')\n",
    "def cleanReviews(reviewText):\n",
    "    reviewText = reviewText.lower()\n",
    "    reviewText = regEx.sub(' ', reviewText).strip()\n",
    "    return reviewText"
   ]
  },
  {
   "cell_type": "code",
   "execution_count": 54,
   "id": "ad3ee446",
   "metadata": {},
   "outputs": [],
   "source": [
    "#reset index and drop duplicate rows\n",
    "df[\"summaryClean\"] = df[\"summary\"].apply(cleanReviews)"
   ]
  },
  {
   "cell_type": "code",
   "execution_count": 55,
   "id": "dec18aed",
   "metadata": {},
   "outputs": [
    {
     "data": {
      "text/html": [
       "<div>\n",
       "<style scoped>\n",
       "    .dataframe tbody tr th:only-of-type {\n",
       "        vertical-align: middle;\n",
       "    }\n",
       "\n",
       "    .dataframe tbody tr th {\n",
       "        vertical-align: top;\n",
       "    }\n",
       "\n",
       "    .dataframe thead th {\n",
       "        text-align: right;\n",
       "    }\n",
       "</style>\n",
       "<table border=\"1\" class=\"dataframe\">\n",
       "  <thead>\n",
       "    <tr style=\"text-align: right;\">\n",
       "      <th></th>\n",
       "      <th>asin</th>\n",
       "      <th>summary</th>\n",
       "      <th>overall</th>\n",
       "      <th>summaryClean</th>\n",
       "    </tr>\n",
       "  </thead>\n",
       "  <tbody>\n",
       "    <tr>\n",
       "      <th>0</th>\n",
       "      <td>0486448789</td>\n",
       "      <td>['Great idea...', 'good, but not a good price'...</td>\n",
       "      <td>3.855670</td>\n",
       "      <td>great idea good but not a good price should be...</td>\n",
       "    </tr>\n",
       "    <tr>\n",
       "      <th>1</th>\n",
       "      <td>0545561647</td>\n",
       "      <td>['Three Stars', \"they love them, but it's a to...</td>\n",
       "      <td>3.950739</td>\n",
       "      <td>three stars they love them but it s a ton of d...</td>\n",
       "    </tr>\n",
       "    <tr>\n",
       "      <th>2</th>\n",
       "      <td>0615638996</td>\n",
       "      <td>['Four Stars', 'Great product', 'Five Stars', ...</td>\n",
       "      <td>4.651515</td>\n",
       "      <td>four stars great product five stars worth the ...</td>\n",
       "    </tr>\n",
       "    <tr>\n",
       "      <th>3</th>\n",
       "      <td>0692770445</td>\n",
       "      <td>['The egg is a great teaching idea', 'The 7-ye...</td>\n",
       "      <td>4.294872</td>\n",
       "      <td>the egg is a great teaching idea the year old ...</td>\n",
       "    </tr>\n",
       "    <tr>\n",
       "      <th>4</th>\n",
       "      <td>0735333467</td>\n",
       "      <td>['Super cute but not durable', 'So cute!', 'At...</td>\n",
       "      <td>4.508475</td>\n",
       "      <td>super cute but not durable so cute at first i ...</td>\n",
       "    </tr>\n",
       "  </tbody>\n",
       "</table>\n",
       "</div>"
      ],
      "text/plain": [
       "         asin                                            summary   overall  \\\n",
       "0  0486448789  ['Great idea...', 'good, but not a good price'...  3.855670   \n",
       "1  0545561647  ['Three Stars', \"they love them, but it's a to...  3.950739   \n",
       "2  0615638996  ['Four Stars', 'Great product', 'Five Stars', ...  4.651515   \n",
       "3  0692770445  ['The egg is a great teaching idea', 'The 7-ye...  4.294872   \n",
       "4  0735333467  ['Super cute but not durable', 'So cute!', 'At...  4.508475   \n",
       "\n",
       "                                        summaryClean  \n",
       "0  great idea good but not a good price should be...  \n",
       "1  three stars they love them but it s a ton of d...  \n",
       "2  four stars great product five stars worth the ...  \n",
       "3  the egg is a great teaching idea the year old ...  \n",
       "4  super cute but not durable so cute at first i ...  "
      ]
     },
     "execution_count": 55,
     "metadata": {},
     "output_type": "execute_result"
    }
   ],
   "source": [
    "df.head(5)"
   ]
  },
  {
   "cell_type": "markdown",
   "id": "cdf8c2e3",
   "metadata": {},
   "source": [
    "### Feature Extraction"
   ]
  },
  {
   "cell_type": "code",
   "execution_count": 63,
   "id": "7b00f4be",
   "metadata": {},
   "outputs": [],
   "source": [
    "reviews = df[\"summaryClean\"] "
   ]
  },
  {
   "cell_type": "code",
   "execution_count": 64,
   "id": "58574a1f",
   "metadata": {},
   "outputs": [],
   "source": [
    "# might be able to use TfIdf tokenizer\n",
    "countVector = CountVectorizer(max_features = 300, stop_words='english') \n",
    "transformed_reviews = countVector.fit_transform(reviews) "
   ]
  },
  {
   "cell_type": "code",
   "execution_count": 65,
   "id": "0e009c94",
   "metadata": {},
   "outputs": [],
   "source": [
    "df_feature = pd.DataFrame(transformed_reviews.A, columns=countVector.get_feature_names())\n",
    "df_feature = df_feature.astype(int)"
   ]
  },
  {
   "cell_type": "code",
   "execution_count": 66,
   "id": "0cc237aa",
   "metadata": {},
   "outputs": [
    {
     "data": {
      "text/html": [
       "<div>\n",
       "<style scoped>\n",
       "    .dataframe tbody tr th:only-of-type {\n",
       "        vertical-align: middle;\n",
       "    }\n",
       "\n",
       "    .dataframe tbody tr th {\n",
       "        vertical-align: top;\n",
       "    }\n",
       "\n",
       "    .dataframe thead th {\n",
       "        text-align: right;\n",
       "    }\n",
       "</style>\n",
       "<table border=\"1\" class=\"dataframe\">\n",
       "  <thead>\n",
       "    <tr style=\"text-align: right;\">\n",
       "      <th></th>\n",
       "      <th>absolutely</th>\n",
       "      <th>actually</th>\n",
       "      <th>addition</th>\n",
       "      <th>adorable</th>\n",
       "      <th>adults</th>\n",
       "      <th>advertised</th>\n",
       "      <th>age</th>\n",
       "      <th>ages</th>\n",
       "      <th>amazing</th>\n",
       "      <th>amazon</th>\n",
       "      <th>...</th>\n",
       "      <th>work</th>\n",
       "      <th>worked</th>\n",
       "      <th>working</th>\n",
       "      <th>works</th>\n",
       "      <th>worth</th>\n",
       "      <th>wrong</th>\n",
       "      <th>year</th>\n",
       "      <th>years</th>\n",
       "      <th>young</th>\n",
       "      <th>yr</th>\n",
       "    </tr>\n",
       "  </thead>\n",
       "  <tbody>\n",
       "    <tr>\n",
       "      <th>0</th>\n",
       "      <td>0</td>\n",
       "      <td>0</td>\n",
       "      <td>1</td>\n",
       "      <td>0</td>\n",
       "      <td>0</td>\n",
       "      <td>1</td>\n",
       "      <td>1</td>\n",
       "      <td>0</td>\n",
       "      <td>0</td>\n",
       "      <td>0</td>\n",
       "      <td>...</td>\n",
       "      <td>0</td>\n",
       "      <td>1</td>\n",
       "      <td>0</td>\n",
       "      <td>0</td>\n",
       "      <td>0</td>\n",
       "      <td>0</td>\n",
       "      <td>4</td>\n",
       "      <td>0</td>\n",
       "      <td>0</td>\n",
       "      <td>1</td>\n",
       "    </tr>\n",
       "    <tr>\n",
       "      <th>1</th>\n",
       "      <td>0</td>\n",
       "      <td>0</td>\n",
       "      <td>0</td>\n",
       "      <td>9</td>\n",
       "      <td>1</td>\n",
       "      <td>0</td>\n",
       "      <td>2</td>\n",
       "      <td>1</td>\n",
       "      <td>0</td>\n",
       "      <td>0</td>\n",
       "      <td>...</td>\n",
       "      <td>1</td>\n",
       "      <td>0</td>\n",
       "      <td>0</td>\n",
       "      <td>1</td>\n",
       "      <td>3</td>\n",
       "      <td>0</td>\n",
       "      <td>7</td>\n",
       "      <td>0</td>\n",
       "      <td>0</td>\n",
       "      <td>1</td>\n",
       "    </tr>\n",
       "    <tr>\n",
       "      <th>2</th>\n",
       "      <td>0</td>\n",
       "      <td>0</td>\n",
       "      <td>1</td>\n",
       "      <td>0</td>\n",
       "      <td>0</td>\n",
       "      <td>0</td>\n",
       "      <td>1</td>\n",
       "      <td>1</td>\n",
       "      <td>0</td>\n",
       "      <td>0</td>\n",
       "      <td>...</td>\n",
       "      <td>3</td>\n",
       "      <td>0</td>\n",
       "      <td>1</td>\n",
       "      <td>2</td>\n",
       "      <td>3</td>\n",
       "      <td>0</td>\n",
       "      <td>2</td>\n",
       "      <td>0</td>\n",
       "      <td>0</td>\n",
       "      <td>1</td>\n",
       "    </tr>\n",
       "    <tr>\n",
       "      <th>3</th>\n",
       "      <td>0</td>\n",
       "      <td>0</td>\n",
       "      <td>1</td>\n",
       "      <td>0</td>\n",
       "      <td>1</td>\n",
       "      <td>0</td>\n",
       "      <td>0</td>\n",
       "      <td>1</td>\n",
       "      <td>0</td>\n",
       "      <td>0</td>\n",
       "      <td>...</td>\n",
       "      <td>0</td>\n",
       "      <td>0</td>\n",
       "      <td>0</td>\n",
       "      <td>0</td>\n",
       "      <td>0</td>\n",
       "      <td>0</td>\n",
       "      <td>2</td>\n",
       "      <td>1</td>\n",
       "      <td>0</td>\n",
       "      <td>0</td>\n",
       "    </tr>\n",
       "    <tr>\n",
       "      <th>4</th>\n",
       "      <td>2</td>\n",
       "      <td>0</td>\n",
       "      <td>0</td>\n",
       "      <td>2</td>\n",
       "      <td>0</td>\n",
       "      <td>0</td>\n",
       "      <td>0</td>\n",
       "      <td>0</td>\n",
       "      <td>0</td>\n",
       "      <td>0</td>\n",
       "      <td>...</td>\n",
       "      <td>0</td>\n",
       "      <td>0</td>\n",
       "      <td>0</td>\n",
       "      <td>0</td>\n",
       "      <td>2</td>\n",
       "      <td>0</td>\n",
       "      <td>0</td>\n",
       "      <td>0</td>\n",
       "      <td>0</td>\n",
       "      <td>0</td>\n",
       "    </tr>\n",
       "  </tbody>\n",
       "</table>\n",
       "<p>5 rows × 300 columns</p>\n",
       "</div>"
      ],
      "text/plain": [
       "   absolutely  actually  addition  adorable  adults  advertised  age  ages  \\\n",
       "0           0         0         1         0       0           1    1     0   \n",
       "1           0         0         0         9       1           0    2     1   \n",
       "2           0         0         1         0       0           0    1     1   \n",
       "3           0         0         1         0       1           0    0     1   \n",
       "4           2         0         0         2       0           0    0     0   \n",
       "\n",
       "   amazing  amazon  ...  work  worked  working  works  worth  wrong  year  \\\n",
       "0        0       0  ...     0       1        0      0      0      0     4   \n",
       "1        0       0  ...     1       0        0      1      3      0     7   \n",
       "2        0       0  ...     3       0        1      2      3      0     2   \n",
       "3        0       0  ...     0       0        0      0      0      0     2   \n",
       "4        0       0  ...     0       0        0      0      2      0     0   \n",
       "\n",
       "   years  young  yr  \n",
       "0      0      0   1  \n",
       "1      0      0   1  \n",
       "2      0      0   1  \n",
       "3      1      0   0  \n",
       "4      0      0   0  \n",
       "\n",
       "[5 rows x 300 columns]"
      ]
     },
     "execution_count": 66,
     "metadata": {},
     "output_type": "execute_result"
    }
   ],
   "source": [
    "df_feature.head(5)"
   ]
  },
  {
   "cell_type": "markdown",
   "id": "ce79bcd6",
   "metadata": {},
   "source": [
    "### Train-test split"
   ]
  },
  {
   "cell_type": "code",
   "execution_count": 73,
   "id": "fc87be00",
   "metadata": {},
   "outputs": [
    {
     "name": "stdout",
     "output_type": "stream",
     "text": [
      "Length of training set: 23846\n",
      "Length of test set: 5962\n"
     ]
    }
   ],
   "source": [
    "X = np.array(df_feature)\n",
    "\n",
    "train_size = 0.8\n",
    "tsize = int(np.floor(train_size * len(df_feature)))\n",
    "X_train = X[:tsize]\n",
    "X_test = X[tsize:]\n",
    "\n",
    "print(\"Length of training set:\", len(X_train))\n",
    "print(\"Length of test set:\", len(X_test))"
   ]
  },
  {
   "cell_type": "markdown",
   "id": "74d9a5da",
   "metadata": {},
   "source": [
    "### Recommendation System (KNN)"
   ]
  },
  {
   "cell_type": "code",
   "execution_count": 74,
   "id": "2b76232c",
   "metadata": {},
   "outputs": [],
   "source": [
    "knn = NearestNeighbors(n_neighbors=3, algorithm='ball_tree').fit(X_train)"
   ]
  },
  {
   "cell_type": "code",
   "execution_count": 75,
   "id": "302c1ca4",
   "metadata": {},
   "outputs": [
    {
     "name": "stdout",
     "output_type": "stream",
     "text": [
      "Based on product reviews, for  B00WXYNLYS  average rating is  4.796296296296297\n",
      "The first similar product is  B00EZIKSZK  average rating is  4.96969696969697\n",
      "The second similar product is  B00F14IHO6  average rating is  4.515625\n",
      "-----------------------------------------------------------\n",
      "Based on product reviews, for  B00WXYNS2S  average rating is  4.71830985915493\n",
      "The first similar product is  B00R8ZVPVS  average rating is  4.783333333333333\n",
      "The second similar product is  B00DR7T8W4  average rating is  4.672727272727273\n",
      "-----------------------------------------------------------\n",
      "Based on product reviews, for  B00WXYNSJQ  average rating is  4.633333333333334\n",
      "The first similar product is  B00I3MOU58  average rating is  4.69811320754717\n",
      "The second similar product is  B00AZP3ZGG  average rating is  4.773584905660377\n",
      "-----------------------------------------------------------\n",
      "Based on product reviews, for  B00WZU720Y  average rating is  4.26530612244898\n",
      "The first similar product is  B0078ZWIU0  average rating is  4.0\n",
      "The second similar product is  B002LH9JCA  average rating is  3.88659793814433\n",
      "-----------------------------------------------------------\n",
      "Based on product reviews, for  B00X04O3G0  average rating is  4.33453237410072\n",
      "The first similar product is  B001IM9TUG  average rating is  4.426666666666667\n",
      "The second similar product is  B00WQNRNUO  average rating is  4.477564102564102\n",
      "-----------------------------------------------------------\n",
      "Based on product reviews, for  B00X0XGSQ4  average rating is  4.383333333333334\n",
      "The first similar product is  B006CC0UPA  average rating is  3.896551724137931\n",
      "The second similar product is  B007LL7MGQ  average rating is  4.458333333333333\n",
      "-----------------------------------------------------------\n",
      "Based on product reviews, for  B00X0XGSVY  average rating is  4.252475247524752\n",
      "The first similar product is  B00AITWR72  average rating is  4.532663316582915\n",
      "The second similar product is  B00KZNHGWW  average rating is  4.58421052631579\n",
      "-----------------------------------------------------------\n",
      "Based on product reviews, for  B00X0Y065M  average rating is  3.048076923076923\n",
      "The first similar product is  B00L0ZWB7E  average rating is  3.3980582524271843\n",
      "The second similar product is  B00NCEF7YU  average rating is  3.4\n",
      "-----------------------------------------------------------\n",
      "Based on product reviews, for  B00X0Y1AE8  average rating is  4.6371681415929205\n",
      "The first similar product is  B0056ZS2H2  average rating is  4.732283464566929\n",
      "The second similar product is  B00C0E3Q3C  average rating is  4.784\n",
      "-----------------------------------------------------------\n",
      "Based on product reviews, for  B00X0Y1B2O  average rating is  4.564356435643564\n",
      "The first similar product is  B00BV1P476  average rating is  4.6\n",
      "The second similar product is  B00KS6AANI  average rating is  4.307017543859649\n",
      "-----------------------------------------------------------\n",
      "Based on product reviews, for  B00X0Y1N4K  average rating is  4.80327868852459\n",
      "The first similar product is  B00UO3D79O  average rating is  4.616666666666666\n",
      "The second similar product is  B00WXMPKPS  average rating is  4.615384615384615\n",
      "-----------------------------------------------------------\n",
      "Based on product reviews, for  B00X0Y1N68  average rating is  4.621848739495798\n",
      "The first similar product is  B00BW0RF3W  average rating is  4.539130434782609\n",
      "The second similar product is  B00PHS1IFG  average rating is  4.657407407407407\n",
      "-----------------------------------------------------------\n",
      "Based on product reviews, for  B00X0Y2TAC  average rating is  4.705882352941177\n",
      "The first similar product is  B00DURHP0I  average rating is  3.8823529411764706\n",
      "The second similar product is  B001J60TF0  average rating is  4.830188679245283\n",
      "-----------------------------------------------------------\n",
      "Based on product reviews, for  B00X0Y35IC  average rating is  4.636363636363637\n",
      "The first similar product is  B00PX70TLA  average rating is  4.7384615384615385\n",
      "The second similar product is  B00MI33YKK  average rating is  4.78125\n",
      "-----------------------------------------------------------\n",
      "Based on product reviews, for  B00X0Y361S  average rating is  4.5476190476190474\n",
      "The first similar product is  B00EFQJX7Q  average rating is  4.8076923076923075\n",
      "The second similar product is  B00TF4JG98  average rating is  4.701492537313433\n",
      "-----------------------------------------------------------\n",
      "Based on product reviews, for  B00X0Y3I6Q  average rating is  4.696428571428571\n",
      "The first similar product is  B00MNRN55U  average rating is  4.685185185185185\n",
      "The second similar product is  B00MJIJRW8  average rating is  4.921568627450981\n",
      "-----------------------------------------------------------\n",
      "Based on product reviews, for  B00X0Y4GX0  average rating is  4.406976744186046\n",
      "The first similar product is  B00SUABTYI  average rating is  4.704545454545454\n",
      "The second similar product is  B00M28CTHA  average rating is  4.670588235294118\n",
      "-----------------------------------------------------------\n",
      "Based on product reviews, for  B00X0Y4H9I  average rating is  4.827586206896552\n",
      "The first similar product is  B00BW0RF3W  average rating is  4.539130434782609\n",
      "The second similar product is  B005F1PPX6  average rating is  4.663865546218488\n",
      "-----------------------------------------------------------\n",
      "Based on product reviews, for  B00X0Y4KZO  average rating is  4.759615384615385\n",
      "The first similar product is  B00EZTA3E0  average rating is  4.791666666666667\n",
      "The second similar product is  B00Q77A5GE  average rating is  4.796116504854369\n",
      "-----------------------------------------------------------\n",
      "Based on product reviews, for  B00X0Y4L80  average rating is  4.688311688311688\n",
      "The first similar product is  B00O4IMT12  average rating is  4.410256410256411\n",
      "The second similar product is  B00M28CTHA  average rating is  4.670588235294118\n",
      "-----------------------------------------------------------\n"
     ]
    }
   ],
   "source": [
    "# find most related products for the first 20 products\n",
    "for i in range(20):\n",
    "    a = knn.kneighbors([X_test[i]])\n",
    "    related_product_list = a[1]\n",
    "\n",
    "    first_related_product = [item[0] for item in related_product_list]\n",
    "    first_related_product = str(first_related_product).strip('[]')\n",
    "    first_related_product = int(first_related_product)\n",
    "    second_related_product = [item[1] for item in related_product_list]\n",
    "    second_related_product = str(second_related_product).strip('[]')\n",
    "    second_related_product = int(second_related_product)\n",
    "    \n",
    "    print (\"Based on product reviews, for \", df[\"asin\"][len(X_train) + i] ,\" average rating is \",df[\"overall\"][len(X_train) + i])\n",
    "    print (\"The first similar product is \", df[\"asin\"][first_related_product] ,\" average rating is \",df[\"overall\"][first_related_product])\n",
    "    print (\"The second similar product is \", df[\"asin\"][second_related_product] ,\" average rating is \",df[\"overall\"][second_related_product])\n",
    "    print (\"-----------------------------------------------------------\")"
   ]
  },
  {
   "cell_type": "markdown",
   "id": "d0871481",
   "metadata": {},
   "source": [
    "### Predict overall rating using KNN"
   ]
  },
  {
   "cell_type": "markdown",
   "id": "a35f7ced",
   "metadata": {},
   "source": [
    "#### n_neighbors=3, algorithm='ball_tree'"
   ]
  },
  {
   "cell_type": "code",
   "execution_count": 85,
   "id": "ebdea4eb",
   "metadata": {},
   "outputs": [],
   "source": [
    "y_train = df[\"overall\"][:len(X_train)]\n",
    "y_test = df[\"overall\"][len(X_train):]\n",
    "y_train = y_train.astype(int)\n",
    "y_test = y_test.astype(int)"
   ]
  },
  {
   "cell_type": "code",
   "execution_count": 87,
   "id": "f16e2724",
   "metadata": {},
   "outputs": [
    {
     "name": "stdout",
     "output_type": "stream",
     "text": [
      "              precision    recall  f1-score   support\n",
      "\n",
      "           1       0.50      0.56      0.53        18\n",
      "           2       0.78      0.43      0.55       226\n",
      "           3       0.65      0.38      0.48      1340\n",
      "           4       0.84      0.96      0.89      4376\n",
      "           5       0.00      0.00      0.00         2\n",
      "\n",
      "    accuracy                           0.81      5962\n",
      "   macro avg       0.55      0.46      0.49      5962\n",
      "weighted avg       0.79      0.81      0.79      5962\n",
      "\n"
     ]
    }
   ],
   "source": [
    "n_neighbors = 3\n",
    "knnclf = neighbors.KNeighborsClassifier(n_neighbors, weights='distance', algorithm='ball_tree')\n",
    "knnclf.fit(X_train, y_train)\n",
    "y_test_pred = knnclf.predict(X_test)\n",
    "\n",
    "print(classification_report(y_test, y_test_pred))"
   ]
  },
  {
   "cell_type": "markdown",
   "id": "16792a45",
   "metadata": {},
   "source": [
    "#### n_neighbors=3, algorithm='brute'"
   ]
  },
  {
   "cell_type": "code",
   "execution_count": 88,
   "id": "a3b80666",
   "metadata": {},
   "outputs": [
    {
     "name": "stdout",
     "output_type": "stream",
     "text": [
      "              precision    recall  f1-score   support\n",
      "\n",
      "           1       0.50      0.56      0.53        18\n",
      "           2       0.79      0.42      0.55       226\n",
      "           3       0.65      0.37      0.47      1340\n",
      "           4       0.83      0.96      0.89      4376\n",
      "           5       0.00      0.00      0.00         2\n",
      "\n",
      "    accuracy                           0.81      5962\n",
      "   macro avg       0.55      0.46      0.49      5962\n",
      "weighted avg       0.79      0.81      0.78      5962\n",
      "\n"
     ]
    }
   ],
   "source": [
    "n_neighbors = 3\n",
    "knnclf = neighbors.KNeighborsClassifier(n_neighbors, weights='distance', algorithm='brute')\n",
    "knnclf.fit(X_train, y_train)\n",
    "y_test_pred = knnclf.predict(X_test)\n",
    "\n",
    "print(classification_report(y_test, y_test_pred))"
   ]
  },
  {
   "cell_type": "markdown",
   "id": "3cff9cf7",
   "metadata": {},
   "source": [
    "#### n_neighbors=3, algorithm='KD_Tree'"
   ]
  },
  {
   "cell_type": "code",
   "execution_count": 89,
   "id": "48dfd64f",
   "metadata": {},
   "outputs": [
    {
     "name": "stdout",
     "output_type": "stream",
     "text": [
      "              precision    recall  f1-score   support\n",
      "\n",
      "           1       0.50      0.56      0.53        18\n",
      "           2       0.78      0.43      0.56       226\n",
      "           3       0.65      0.37      0.47      1340\n",
      "           4       0.83      0.96      0.89      4376\n",
      "           5       0.00      0.00      0.00         2\n",
      "\n",
      "    accuracy                           0.81      5962\n",
      "   macro avg       0.55      0.46      0.49      5962\n",
      "weighted avg       0.79      0.81      0.79      5962\n",
      "\n"
     ]
    }
   ],
   "source": [
    "n_neighbors = 3\n",
    "knnclf = neighbors.KNeighborsClassifier(n_neighbors, weights='distance', algorithm='kd_tree')\n",
    "knnclf.fit(X_train, y_train)\n",
    "y_test_pred = knnclf.predict(X_test)\n",
    "\n",
    "print(classification_report(y_test, y_test_pred))"
   ]
  },
  {
   "cell_type": "markdown",
   "id": "ca9970fa",
   "metadata": {},
   "source": [
    "#### n_neighbors=5, algorithm='ball_tree'"
   ]
  },
  {
   "cell_type": "code",
   "execution_count": 90,
   "id": "a1dd4750",
   "metadata": {},
   "outputs": [
    {
     "name": "stdout",
     "output_type": "stream",
     "text": [
      "              precision    recall  f1-score   support\n",
      "\n",
      "           1       0.53      0.44      0.48        18\n",
      "           2       0.81      0.42      0.55       226\n",
      "           3       0.67      0.34      0.45      1340\n",
      "           4       0.83      0.97      0.90      4376\n",
      "           5       0.00      0.00      0.00         2\n",
      "\n",
      "    accuracy                           0.81      5962\n",
      "   macro avg       0.57      0.44      0.48      5962\n",
      "weighted avg       0.79      0.81      0.78      5962\n",
      "\n"
     ]
    },
    {
     "name": "stderr",
     "output_type": "stream",
     "text": [
      "C:\\Users\\Xylon\\anaconda3\\lib\\site-packages\\sklearn\\metrics\\_classification.py:1245: UndefinedMetricWarning: Precision and F-score are ill-defined and being set to 0.0 in labels with no predicted samples. Use `zero_division` parameter to control this behavior.\n",
      "  _warn_prf(average, modifier, msg_start, len(result))\n",
      "C:\\Users\\Xylon\\anaconda3\\lib\\site-packages\\sklearn\\metrics\\_classification.py:1245: UndefinedMetricWarning: Precision and F-score are ill-defined and being set to 0.0 in labels with no predicted samples. Use `zero_division` parameter to control this behavior.\n",
      "  _warn_prf(average, modifier, msg_start, len(result))\n",
      "C:\\Users\\Xylon\\anaconda3\\lib\\site-packages\\sklearn\\metrics\\_classification.py:1245: UndefinedMetricWarning: Precision and F-score are ill-defined and being set to 0.0 in labels with no predicted samples. Use `zero_division` parameter to control this behavior.\n",
      "  _warn_prf(average, modifier, msg_start, len(result))\n"
     ]
    }
   ],
   "source": [
    "n_neighbors = 5\n",
    "knnclf = neighbors.KNeighborsClassifier(n_neighbors, weights='distance', algorithm='ball_tree')\n",
    "knnclf.fit(X_train, y_train)\n",
    "y_test_pred = knnclf.predict(X_test)\n",
    "\n",
    "print(classification_report(y_test, y_test_pred))"
   ]
  },
  {
   "cell_type": "markdown",
   "id": "93a9ae05",
   "metadata": {},
   "source": [
    "#### n_neighbors=5, algorithm='brute'"
   ]
  },
  {
   "cell_type": "code",
   "execution_count": 91,
   "id": "a1073ba9",
   "metadata": {},
   "outputs": [
    {
     "name": "stdout",
     "output_type": "stream",
     "text": [
      "              precision    recall  f1-score   support\n",
      "\n",
      "           1       0.53      0.44      0.48        18\n",
      "           2       0.80      0.42      0.55       226\n",
      "           3       0.67      0.35      0.46      1340\n",
      "           4       0.83      0.97      0.90      4376\n",
      "           5       0.00      0.00      0.00         2\n",
      "\n",
      "    accuracy                           0.81      5962\n",
      "   macro avg       0.57      0.44      0.48      5962\n",
      "weighted avg       0.79      0.81      0.78      5962\n",
      "\n"
     ]
    },
    {
     "name": "stderr",
     "output_type": "stream",
     "text": [
      "C:\\Users\\Xylon\\anaconda3\\lib\\site-packages\\sklearn\\metrics\\_classification.py:1245: UndefinedMetricWarning: Precision and F-score are ill-defined and being set to 0.0 in labels with no predicted samples. Use `zero_division` parameter to control this behavior.\n",
      "  _warn_prf(average, modifier, msg_start, len(result))\n",
      "C:\\Users\\Xylon\\anaconda3\\lib\\site-packages\\sklearn\\metrics\\_classification.py:1245: UndefinedMetricWarning: Precision and F-score are ill-defined and being set to 0.0 in labels with no predicted samples. Use `zero_division` parameter to control this behavior.\n",
      "  _warn_prf(average, modifier, msg_start, len(result))\n",
      "C:\\Users\\Xylon\\anaconda3\\lib\\site-packages\\sklearn\\metrics\\_classification.py:1245: UndefinedMetricWarning: Precision and F-score are ill-defined and being set to 0.0 in labels with no predicted samples. Use `zero_division` parameter to control this behavior.\n",
      "  _warn_prf(average, modifier, msg_start, len(result))\n"
     ]
    }
   ],
   "source": [
    "n_neighbors = 5\n",
    "knnclf = neighbors.KNeighborsClassifier(n_neighbors, weights='distance', algorithm='brute')\n",
    "knnclf.fit(X_train, y_train)\n",
    "y_test_pred = knnclf.predict(X_test)\n",
    "\n",
    "print(classification_report(y_test, y_test_pred))"
   ]
  },
  {
   "cell_type": "markdown",
   "id": "651b31d5",
   "metadata": {},
   "source": [
    "#### n_neighbors=5, algorithm='KD_Tree'"
   ]
  },
  {
   "cell_type": "code",
   "execution_count": 92,
   "id": "9f3192bd",
   "metadata": {},
   "outputs": [
    {
     "name": "stdout",
     "output_type": "stream",
     "text": [
      "              precision    recall  f1-score   support\n",
      "\n",
      "           1       0.53      0.44      0.48        18\n",
      "           2       0.81      0.42      0.55       226\n",
      "           3       0.67      0.34      0.45      1340\n",
      "           4       0.83      0.97      0.90      4376\n",
      "           5       0.00      0.00      0.00         2\n",
      "\n",
      "    accuracy                           0.81      5962\n",
      "   macro avg       0.57      0.44      0.48      5962\n",
      "weighted avg       0.79      0.81      0.78      5962\n",
      "\n"
     ]
    },
    {
     "name": "stderr",
     "output_type": "stream",
     "text": [
      "C:\\Users\\Xylon\\anaconda3\\lib\\site-packages\\sklearn\\metrics\\_classification.py:1245: UndefinedMetricWarning: Precision and F-score are ill-defined and being set to 0.0 in labels with no predicted samples. Use `zero_division` parameter to control this behavior.\n",
      "  _warn_prf(average, modifier, msg_start, len(result))\n",
      "C:\\Users\\Xylon\\anaconda3\\lib\\site-packages\\sklearn\\metrics\\_classification.py:1245: UndefinedMetricWarning: Precision and F-score are ill-defined and being set to 0.0 in labels with no predicted samples. Use `zero_division` parameter to control this behavior.\n",
      "  _warn_prf(average, modifier, msg_start, len(result))\n",
      "C:\\Users\\Xylon\\anaconda3\\lib\\site-packages\\sklearn\\metrics\\_classification.py:1245: UndefinedMetricWarning: Precision and F-score are ill-defined and being set to 0.0 in labels with no predicted samples. Use `zero_division` parameter to control this behavior.\n",
      "  _warn_prf(average, modifier, msg_start, len(result))\n"
     ]
    }
   ],
   "source": [
    "n_neighbors = 5\n",
    "knnclf = neighbors.KNeighborsClassifier(n_neighbors, weights='distance', algorithm='kd_tree')\n",
    "knnclf.fit(X_train, y_train)\n",
    "y_test_pred = knnclf.predict(X_test)\n",
    "\n",
    "print(classification_report(y_test, y_test_pred))"
   ]
  },
  {
   "cell_type": "code",
   "execution_count": null,
   "id": "67654c35",
   "metadata": {},
   "outputs": [],
   "source": []
  }
 ],
 "metadata": {
  "kernelspec": {
   "display_name": "Python 3",
   "language": "python",
   "name": "python3"
  },
  "language_info": {
   "codemirror_mode": {
    "name": "ipython",
    "version": 3
   },
   "file_extension": ".py",
   "mimetype": "text/x-python",
   "name": "python",
   "nbconvert_exporter": "python",
   "pygments_lexer": "ipython3",
   "version": "3.8.8"
  }
 },
 "nbformat": 4,
 "nbformat_minor": 5
}
