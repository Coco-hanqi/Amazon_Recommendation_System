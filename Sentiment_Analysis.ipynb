{
 "cells": [
  {
   "cell_type": "code",
   "execution_count": 1,
   "id": "1d894f69",
   "metadata": {},
   "outputs": [
    {
     "name": "stdout",
     "output_type": "stream",
     "text": [
      "Requirement already satisfied: wordcloud in c:\\users\\xylon\\anaconda3\\lib\\site-packages (1.8.1)\n",
      "Requirement already satisfied: numpy>=1.6.1 in c:\\users\\xylon\\appdata\\roaming\\python\\python38\\site-packages (from wordcloud) (1.19.5)\n",
      "Requirement already satisfied: pillow in c:\\users\\xylon\\anaconda3\\lib\\site-packages (from wordcloud) (8.2.0)\n",
      "Requirement already satisfied: matplotlib in c:\\users\\xylon\\anaconda3\\lib\\site-packages (from wordcloud) (3.3.4)\n",
      "Requirement already satisfied: cycler>=0.10 in c:\\users\\xylon\\anaconda3\\lib\\site-packages (from matplotlib->wordcloud) (0.10.0)\n",
      "Requirement already satisfied: pyparsing!=2.0.4,!=2.1.2,!=2.1.6,>=2.0.3 in c:\\users\\xylon\\anaconda3\\lib\\site-packages (from matplotlib->wordcloud) (2.4.7)\n",
      "Requirement already satisfied: python-dateutil>=2.1 in c:\\users\\xylon\\anaconda3\\lib\\site-packages (from matplotlib->wordcloud) (2.8.1)\n",
      "Requirement already satisfied: kiwisolver>=1.0.1 in c:\\users\\xylon\\anaconda3\\lib\\site-packages (from matplotlib->wordcloud) (1.3.1)\n",
      "Requirement already satisfied: six in c:\\users\\xylon\\anaconda3\\lib\\site-packages (from cycler>=0.10->matplotlib->wordcloud) (1.15.0)\n"
     ]
    }
   ],
   "source": [
    "!pip install wordcloud"
   ]
  },
  {
   "cell_type": "code",
   "execution_count": 2,
   "id": "80198270",
   "metadata": {},
   "outputs": [],
   "source": [
    "import os\n",
    "import json\n",
    "import gzip\n",
    "import pandas as pd\n",
    "import numpy as np\n",
    "import seaborn as sns\n",
    "import nltk\n",
    "import re\n",
    "\n",
    "from tqdm import tqdm\n",
    "from matplotlib import pyplot as plt\n",
    "from urllib.request import urlopen\n",
    "from numpy.linalg import norm\n",
    "from collections import defaultdict\n",
    "from sklearn.model_selection import train_test_split\n",
    "from sklearn.model_selection import KFold\n",
    "from sklearn.linear_model import LinearRegression\n",
    "from sklearn.metrics import mean_squared_error\n",
    "from math import sqrt\n",
    "\n",
    "\n",
    "from sklearn.feature_extraction.text import CountVectorizer\n",
    "from sklearn.feature_extraction.text import TfidfVectorizer\n",
    "from sklearn.linear_model import LogisticRegression\n",
    "from sklearn.metrics import roc_curve\n",
    "from sklearn.dummy import DummyClassifier\n",
    "from string import punctuation\n",
    "from sklearn import svm\n",
    "from nltk.corpus import stopwords\n",
    "from nltk.stem import WordNetLemmatizer\n",
    "\n",
    "from nltk import ngrams\n",
    "from itertools import chain\n",
    "from wordcloud import WordCloud\n",
    "from fractions import Fraction\n",
    "\n",
    "# default plot configurations \n",
    "%matplotlib inline \n",
    "plt.rcParams['figure.figsize'] = (16,8)\n",
    "plt.rcParams['figure.dpi'] = 150\n",
    "sns.set()"
   ]
  },
  {
   "cell_type": "markdown",
   "id": "d428a7a5",
   "metadata": {},
   "source": [
    "### Loading Data"
   ]
  },
  {
   "cell_type": "code",
   "execution_count": 3,
   "id": "1de8f0ff",
   "metadata": {},
   "outputs": [],
   "source": [
    "def parse(path):\n",
    "    g = gzip.open(path, 'rb')\n",
    "    for l in g:\n",
    "        yield json.loads(l)\n",
    "\n",
    "def getDF(path):\n",
    "    i = 0\n",
    "    df = {}\n",
    "    for d in parse(path):\n",
    "        df[i] = d\n",
    "        i += 1\n",
    "        if i % 500000 == 0: print(i)\n",
    "    return pd.DataFrame.from_dict(df, orient='index')"
   ]
  },
  {
   "cell_type": "code",
   "execution_count": 4,
   "id": "f0321ed4",
   "metadata": {},
   "outputs": [
    {
     "name": "stdout",
     "output_type": "stream",
     "text": [
      "Start loading review data\n",
      "500000\n",
      "1000000\n",
      "1500000\n",
      "2000000\n",
      "2500000\n",
      "3000000\n",
      "3500000\n",
      "4000000\n",
      "4500000\n",
      "5000000\n",
      "5500000\n",
      "6000000\n",
      "6500000\n",
      "7000000\n",
      "7500000\n",
      "8000000\n",
      "Finish loading review data\n",
      "8201231\n"
     ]
    }
   ],
   "source": [
    "print(\"Start loading review data\")\n",
    "review_data = getDF(r'C:\\Users\\Xylon\\Desktop\\data200_grad\\data\\Toys_and_Games.json.gz')\n",
    "print(\"Finish loading review data\")\n",
    "\n",
    "# total length of list, this number equals total number of products\n",
    "print(len(review_data))"
   ]
  },
  {
   "cell_type": "markdown",
   "id": "e1685b45",
   "metadata": {},
   "source": [
    "### Data Preprocessing"
   ]
  },
  {
   "cell_type": "markdown",
   "id": "4829eea0",
   "metadata": {},
   "source": [
    "Drop useless columns. "
   ]
  },
  {
   "cell_type": "code",
   "execution_count": 5,
   "id": "7927ac80",
   "metadata": {},
   "outputs": [],
   "source": [
    "review_data = review_data.drop(columns=['image', 'style'])"
   ]
  },
  {
   "cell_type": "markdown",
   "id": "e9ac71ec",
   "metadata": {},
   "source": [
    "Technically, a user can only make 1 review at a reviewTime for a product. Therefore, we remove the duplicates which share the same reviewerID, product asin, and unixReviewTime."
   ]
  },
  {
   "cell_type": "code",
   "execution_count": 6,
   "id": "614c7451",
   "metadata": {},
   "outputs": [],
   "source": [
    "review_data.drop_duplicates(subset=['reviewerID', 'asin', 'unixReviewTime'], inplace=True)"
   ]
  },
  {
   "cell_type": "markdown",
   "id": "9c2684d2",
   "metadata": {},
   "source": [
    "Fill in 0 and \" \" for NaN values in 'vote', 'reviewText', and 'summary'. Drop the remaining NaN values."
   ]
  },
  {
   "cell_type": "code",
   "execution_count": 7,
   "id": "ed66f83e",
   "metadata": {},
   "outputs": [],
   "source": [
    "review_data['vote'] = review_data['vote'].str.replace(',', '').fillna(0).astype('int')"
   ]
  },
  {
   "cell_type": "code",
   "execution_count": 8,
   "id": "62cdc9ea",
   "metadata": {},
   "outputs": [],
   "source": [
    "review_data['reviewText'] = review_data['reviewText'].fillna('')\n",
    "review_data['summary'] = review_data['summary'].fillna('')"
   ]
  },
  {
   "cell_type": "code",
   "execution_count": 9,
   "id": "043e4c5e",
   "metadata": {},
   "outputs": [],
   "source": [
    "review_data = review_data.dropna()"
   ]
  },
  {
   "cell_type": "code",
   "execution_count": 10,
   "id": "b6bc57e5",
   "metadata": {},
   "outputs": [
    {
     "name": "stdout",
     "output_type": "stream",
     "text": [
      "8002086\n"
     ]
    }
   ],
   "source": [
    "print(len(review_data))"
   ]
  },
  {
   "cell_type": "markdown",
   "id": "9087f435",
   "metadata": {},
   "source": [
    "Convert \"reviewTime\" from string to datetime object. Extract year."
   ]
  },
  {
   "cell_type": "code",
   "execution_count": 11,
   "id": "373a6156",
   "metadata": {},
   "outputs": [],
   "source": [
    "review_data = review_data[review_data.reviewTime.str.match(r\"\\d{2} \\d{1,2}, \\d{4}\")]\n",
    "review_data['reviewTime'] = pd.to_datetime(review_data['reviewTime'],format='%m %d, %Y', errors='coerce')\n",
    "review_data['reviewYear'] = pd.DatetimeIndex(review_data['reviewTime']).year"
   ]
  },
  {
   "cell_type": "markdown",
   "id": "8fd2dec6",
   "metadata": {},
   "source": [
    "Count the word-level length of \"reviewText\"."
   ]
  },
  {
   "cell_type": "code",
   "execution_count": 12,
   "id": "45906b62",
   "metadata": {},
   "outputs": [],
   "source": [
    "review_data['review_length'] = review_data['reviewText'].str.count(\" \")+1"
   ]
  },
  {
   "cell_type": "markdown",
   "id": "3f1f4e97",
   "metadata": {},
   "source": [
    "Convert numpy boolean to int (0 and 1) for the \"verified\" column."
   ]
  },
  {
   "cell_type": "code",
   "execution_count": 13,
   "id": "cf579d7c",
   "metadata": {},
   "outputs": [],
   "source": [
    "review_data['verified'] = review_data['verified'].astype('int')"
   ]
  },
  {
   "cell_type": "code",
   "execution_count": 14,
   "id": "d7c98a37",
   "metadata": {},
   "outputs": [
    {
     "data": {
      "text/html": [
       "<div>\n",
       "<style scoped>\n",
       "    .dataframe tbody tr th:only-of-type {\n",
       "        vertical-align: middle;\n",
       "    }\n",
       "\n",
       "    .dataframe tbody tr th {\n",
       "        vertical-align: top;\n",
       "    }\n",
       "\n",
       "    .dataframe thead th {\n",
       "        text-align: right;\n",
       "    }\n",
       "</style>\n",
       "<table border=\"1\" class=\"dataframe\">\n",
       "  <thead>\n",
       "    <tr style=\"text-align: right;\">\n",
       "      <th></th>\n",
       "      <th>overall</th>\n",
       "      <th>vote</th>\n",
       "      <th>verified</th>\n",
       "      <th>reviewTime</th>\n",
       "      <th>reviewerID</th>\n",
       "      <th>asin</th>\n",
       "      <th>reviewerName</th>\n",
       "      <th>reviewText</th>\n",
       "      <th>summary</th>\n",
       "      <th>unixReviewTime</th>\n",
       "      <th>reviewYear</th>\n",
       "      <th>review_length</th>\n",
       "    </tr>\n",
       "  </thead>\n",
       "  <tbody>\n",
       "    <tr>\n",
       "      <th>0</th>\n",
       "      <td>2.0</td>\n",
       "      <td>12</td>\n",
       "      <td>0</td>\n",
       "      <td>2016-09-22</td>\n",
       "      <td>A1IDMI31WEANAF</td>\n",
       "      <td>0020232233</td>\n",
       "      <td>Mackenzie Kent</td>\n",
       "      <td>When it comes to a DM's screen, the space on t...</td>\n",
       "      <td>The fact that 50% of this space is wasted on a...</td>\n",
       "      <td>1474502400</td>\n",
       "      <td>2016</td>\n",
       "      <td>80</td>\n",
       "    </tr>\n",
       "    <tr>\n",
       "      <th>1</th>\n",
       "      <td>1.0</td>\n",
       "      <td>21</td>\n",
       "      <td>0</td>\n",
       "      <td>2016-09-18</td>\n",
       "      <td>A4BCEVVZ4Y3V3</td>\n",
       "      <td>0020232233</td>\n",
       "      <td>Jonathan Christian</td>\n",
       "      <td>An Open Letter to GaleForce9*:\\n\\nYour unpaint...</td>\n",
       "      <td>Another worthless Dungeon Master's screen from...</td>\n",
       "      <td>1474156800</td>\n",
       "      <td>2016</td>\n",
       "      <td>125</td>\n",
       "    </tr>\n",
       "    <tr>\n",
       "      <th>2</th>\n",
       "      <td>3.0</td>\n",
       "      <td>19</td>\n",
       "      <td>1</td>\n",
       "      <td>2016-09-12</td>\n",
       "      <td>A2EZ9PY1IHHBX0</td>\n",
       "      <td>0020232233</td>\n",
       "      <td>unpreparedtodie</td>\n",
       "      <td>Nice art, nice printing.  Why two panels are f...</td>\n",
       "      <td>pretty, but also pretty useless</td>\n",
       "      <td>1473638400</td>\n",
       "      <td>2016</td>\n",
       "      <td>257</td>\n",
       "    </tr>\n",
       "    <tr>\n",
       "      <th>3</th>\n",
       "      <td>5.0</td>\n",
       "      <td>0</td>\n",
       "      <td>1</td>\n",
       "      <td>2017-03-02</td>\n",
       "      <td>A139PXTTC2LGHZ</td>\n",
       "      <td>0020232233</td>\n",
       "      <td>Ashley</td>\n",
       "      <td>Amazing buy! Bought it as a gift for our new d...</td>\n",
       "      <td>Five Stars</td>\n",
       "      <td>1488412800</td>\n",
       "      <td>2017</td>\n",
       "      <td>14</td>\n",
       "    </tr>\n",
       "    <tr>\n",
       "      <th>4</th>\n",
       "      <td>1.0</td>\n",
       "      <td>3</td>\n",
       "      <td>1</td>\n",
       "      <td>2017-02-08</td>\n",
       "      <td>A3IB33V29XIL8O</td>\n",
       "      <td>0020232233</td>\n",
       "      <td>Oghma_EM</td>\n",
       "      <td>As my review of GF9's previous screens these w...</td>\n",
       "      <td>Money trap</td>\n",
       "      <td>1486512000</td>\n",
       "      <td>2017</td>\n",
       "      <td>25</td>\n",
       "    </tr>\n",
       "  </tbody>\n",
       "</table>\n",
       "</div>"
      ],
      "text/plain": [
       "   overall  vote  verified reviewTime      reviewerID        asin  \\\n",
       "0      2.0    12         0 2016-09-22  A1IDMI31WEANAF  0020232233   \n",
       "1      1.0    21         0 2016-09-18   A4BCEVVZ4Y3V3  0020232233   \n",
       "2      3.0    19         1 2016-09-12  A2EZ9PY1IHHBX0  0020232233   \n",
       "3      5.0     0         1 2017-03-02  A139PXTTC2LGHZ  0020232233   \n",
       "4      1.0     3         1 2017-02-08  A3IB33V29XIL8O  0020232233   \n",
       "\n",
       "         reviewerName                                         reviewText  \\\n",
       "0      Mackenzie Kent  When it comes to a DM's screen, the space on t...   \n",
       "1  Jonathan Christian  An Open Letter to GaleForce9*:\\n\\nYour unpaint...   \n",
       "2     unpreparedtodie  Nice art, nice printing.  Why two panels are f...   \n",
       "3              Ashley  Amazing buy! Bought it as a gift for our new d...   \n",
       "4            Oghma_EM  As my review of GF9's previous screens these w...   \n",
       "\n",
       "                                             summary  unixReviewTime  \\\n",
       "0  The fact that 50% of this space is wasted on a...      1474502400   \n",
       "1  Another worthless Dungeon Master's screen from...      1474156800   \n",
       "2                    pretty, but also pretty useless      1473638400   \n",
       "3                                         Five Stars      1488412800   \n",
       "4                                         Money trap      1486512000   \n",
       "\n",
       "   reviewYear  review_length  \n",
       "0        2016             80  \n",
       "1        2016            125  \n",
       "2        2016            257  \n",
       "3        2017             14  \n",
       "4        2017             25  "
      ]
     },
     "execution_count": 14,
     "metadata": {},
     "output_type": "execute_result"
    }
   ],
   "source": [
    "review_data.head(5)"
   ]
  },
  {
   "cell_type": "markdown",
   "id": "08cab875",
   "metadata": {},
   "source": [
    "### Sentiment Analysis (Logistic Regression)\n",
    "We want to investigate if logistic regression can make good predictions for ratings based on the review text. A rating of 3 is neutral and belongs to neither positive nor negative. Therefore, we remove the ratings of 3, and convert the reviews into binary according to the following rule: 1, 2 - negative. 4, 5 - positive."
   ]
  },
  {
   "cell_type": "code",
   "execution_count": 15,
   "id": "551ebb11",
   "metadata": {},
   "outputs": [],
   "source": [
    "df = review_data[review_data['overall'] != 3]\n",
    "X = df['reviewText']\n",
    "y = df['overall'].map({1:0, 2:0, 4:1, 5:1})"
   ]
  },
  {
   "cell_type": "code",
   "execution_count": 16,
   "id": "e4ec107a",
   "metadata": {},
   "outputs": [],
   "source": [
    "def text_fit(X, y, model, clf_model, coef_show=1, plot_show=1):\n",
    "    \n",
    "    X_c = model.fit_transform(X)\n",
    "    print('# features: {}'.format(X_c.shape[1]))\n",
    "    X_train, X_test, y_train, y_test = train_test_split(X_c, y, random_state=42)\n",
    "    print('# train records: {}'.format(X_train.shape[0]))\n",
    "    print('# test records: {}'.format(X_test.shape[0]))\n",
    "    clf = clf_model.fit(X_train, y_train)\n",
    "    acc = clf.score(X_test, y_test)\n",
    "    print ('Model Accuracy: {}'.format(acc))\n",
    "    \n",
    "    if coef_show == 1: \n",
    "        w = model.get_feature_names()\n",
    "        coef = clf.coef_.tolist()[0]\n",
    "        coef_df = pd.DataFrame({'Word' : w, 'Coefficient' : coef}).sort_values(['Coefficient', 'Word'], ascending=[0, 1])\n",
    "        print('')\n",
    "        print('-Top 20 positive-')\n",
    "        print(coef_df.head(20).to_string(index=False))\n",
    "        print('')\n",
    "        print('-Top 20 negative-')        \n",
    "        print(coef_df.tail(20).to_string(index=False))\n",
    "    if plot_show == 1:\n",
    "        y_prob = clf_model.predict_proba(X_test)[:, 1]\n",
    "        fpr, tpr, thresholds = roc_curve(y_test, y_prob)\n",
    "        plt.plot(fpr, tpr)\n",
    "        plt.title(\"ROC curve\")\n",
    "        plt.xlabel(\"False positive rate\")\n",
    "        plt.ylabel(\"True positive rate\")"
   ]
  },
  {
   "cell_type": "markdown",
   "id": "e1b7b7f9",
   "metadata": {},
   "source": [
    "#### Use CountVectorizer\n",
    "We can see that the baseline accuracy using a CountVectorizer, which naively returns the frequency of words in the document is 85.63%. The accuracy of logistic regression improves a lot and reaches 94.55%. The ROC curve also indicates a good performance of logistic regression. However, if we look at the top 20 positive words and 20 negative words, we observe some meaning less tokens such as \"luv\", \"excelent\" (instead of \"excellent\"). We can improve this by using TfIdf."
   ]
  },
  {
   "cell_type": "code",
   "execution_count": 17,
   "id": "d483eac3",
   "metadata": {},
   "outputs": [],
   "source": [
    "c = CountVectorizer(stop_words = 'english')"
   ]
  },
  {
   "cell_type": "code",
   "execution_count": 18,
   "id": "8fae7e6e",
   "metadata": {},
   "outputs": [
    {
     "name": "stdout",
     "output_type": "stream",
     "text": [
      "# features: 420760\n",
      "# train records: 5556020\n",
      "# test records: 1852007\n",
      "Model Accuracy: 0.8563061586700266\n"
     ]
    }
   ],
   "source": [
    "text_fit(X, y, c, DummyClassifier(),0,0)"
   ]
  },
  {
   "cell_type": "code",
   "execution_count": 19,
   "id": "a80b36a7",
   "metadata": {},
   "outputs": [
    {
     "name": "stdout",
     "output_type": "stream",
     "text": [
      "# features: 420760\n",
      "# train records: 5556020\n",
      "# test records: 1852007\n"
     ]
    },
    {
     "name": "stderr",
     "output_type": "stream",
     "text": [
      "C:\\Users\\Xylon\\anaconda3\\lib\\site-packages\\sklearn\\linear_model\\_logistic.py:763: ConvergenceWarning: lbfgs failed to converge (status=1):\n",
      "STOP: TOTAL NO. of ITERATIONS REACHED LIMIT.\n",
      "\n",
      "Increase the number of iterations (max_iter) or scale the data as shown in:\n",
      "    https://scikit-learn.org/stable/modules/preprocessing.html\n",
      "Please also refer to the documentation for alternative solver options:\n",
      "    https://scikit-learn.org/stable/modules/linear_model.html#logistic-regression\n",
      "  n_iter_i = _check_optimize_result(\n"
     ]
    },
    {
     "name": "stdout",
     "output_type": "stream",
     "text": [
      "Model Accuracy: 0.9455299035046844\n",
      "\n",
      "-Top 20 positive-\n",
      "       Word  Coefficient\n",
      "  excelente     5.880376\n",
      "   excelent     5.469466\n",
      " pleasantly     5.028928\n",
      "compliments     4.032347\n",
      "  skeptical     3.858125\n",
      "     awsome     3.647888\n",
      "outstanding     3.556468\n",
      "  priceless     3.370054\n",
      " flawlessly     3.187846\n",
      "    prefect     3.182184\n",
      "     superb     3.119728\n",
      "   exceeded     3.088688\n",
      "  excellent     3.067075\n",
      "   hesitate     3.009346\n",
      "     adores     2.947411\n",
      "    coolest     2.924170\n",
      "    exelent     2.881114\n",
      "        luv     2.850476\n",
      "  addictive     2.797654\n",
      "      adore     2.786197\n",
      "\n",
      "-Top 20 negative-\n",
      "          Word  Coefficient\n",
      " disappointing    -3.054206\n",
      "misrepresented    -3.074372\n",
      "           wtf    -3.088349\n",
      "   embarrassed    -3.167482\n",
      "dissapointment    -3.173933\n",
      "    displeased    -3.180035\n",
      "    returnable    -3.184421\n",
      "           pos    -3.265124\n",
      " dissappointed    -3.286471\n",
      "      pathetic    -3.293621\n",
      "     deceptive    -3.418943\n",
      " dissapointing    -3.535007\n",
      "   unimpressed    -3.666687\n",
      "   unsatisfied    -3.721491\n",
      "          scam    -3.725100\n",
      "        unsafe    -3.812027\n",
      "        ripoff    -4.077276\n",
      "       defeats    -4.104075\n",
      "  dissatisfied    -4.169577\n",
      "  unacceptable    -4.796012\n"
     ]
    },
    {
     "data": {
      "image/png": "[encoded data removed]",
      "text/plain": [
       "<Figure size 2400x1200 with 1 Axes>"
      ]
     },
     "metadata": {},
     "output_type": "display_data"
    }
   ],
   "source": [
    "text_fit(X, y, c, LogisticRegression())"
   ]
  },
  {
   "cell_type": "markdown",
   "id": "d2c9ad5d",
   "metadata": {},
   "source": [
    "#### Use TfidfVectorizer\n",
    "By using TfidfVectorizer, we can see that most word are meaningful and indicate a polarity of sentiment. The accuracy of logistic regresson also increase a bit to 94.95%. "
   ]
  },
  {
   "cell_type": "code",
   "execution_count": 20,
   "id": "cb685190",
   "metadata": {},
   "outputs": [],
   "source": [
    "tfidf = TfidfVectorizer(stop_words = 'english')"
   ]
  },
  {
   "cell_type": "code",
   "execution_count": 21,
   "id": "a4684ae7",
   "metadata": {},
   "outputs": [
    {
     "name": "stdout",
     "output_type": "stream",
     "text": [
      "# features: 420760\n",
      "# train records: 5556020\n",
      "# test records: 1852007\n"
     ]
    },
    {
     "name": "stderr",
     "output_type": "stream",
     "text": [
      "C:\\Users\\Xylon\\anaconda3\\lib\\site-packages\\sklearn\\linear_model\\_logistic.py:763: ConvergenceWarning: lbfgs failed to converge (status=1):\n",
      "STOP: TOTAL NO. of ITERATIONS REACHED LIMIT.\n",
      "\n",
      "Increase the number of iterations (max_iter) or scale the data as shown in:\n",
      "    https://scikit-learn.org/stable/modules/preprocessing.html\n",
      "Please also refer to the documentation for alternative solver options:\n",
      "    https://scikit-learn.org/stable/modules/linear_model.html#logistic-regression\n",
      "  n_iter_i = _check_optimize_result(\n"
     ]
    },
    {
     "name": "stdout",
     "output_type": "stream",
     "text": [
      "Model Accuracy: 0.9494553746287137\n",
      "\n",
      "-Top 20 positive-\n",
      "       Word  Coefficient\n",
      "      loves    15.889839\n",
      "    perfect    14.621646\n",
      "      great    14.445012\n",
      "       love    14.021232\n",
      "  excellent    11.016036\n",
      "    awesome    10.971371\n",
      "   downside    10.693737\n",
      "    amazing    10.205272\n",
      "      loved    10.061049\n",
      " pleasantly     9.822440\n",
      "  perfectly     9.312929\n",
      "   favorite     8.949664\n",
      "  complaint     8.674699\n",
      "  fantastic     8.430501\n",
      "   adorable     8.116654\n",
      "      worry     8.068378\n",
      "compliments     8.008448\n",
      "     highly     7.922110\n",
      "outstanding     7.874714\n",
      "  hilarious     7.798976\n",
      "\n",
      "-Top 20 negative-\n",
      "          Word  Coefficient\n",
      "        ripoff    -7.638079\n",
      "          scam    -7.691165\n",
      "       defeats    -7.999366\n",
      "        return    -8.323457\n",
      "      horrible    -8.763672\n",
      "         broke    -8.838171\n",
      "   embarrassed    -8.839420\n",
      "       useless    -8.845347\n",
      "  dissatisfied    -8.940215\n",
      "      terrible    -9.124516\n",
      "          junk    -9.133007\n",
      "  unacceptable    -9.231476\n",
      "         worst    -9.286020\n",
      "          poor    -9.866115\n",
      "disappointment   -10.151992\n",
      "     returning   -10.195857\n",
      "        poorly   -10.508933\n",
      " disappointing   -10.988074\n",
      "  disappointed   -11.510083\n",
      "         waste   -13.139176\n"
     ]
    },
    {
     "data": {
      "image/png": "[encoded data removed]",
      "text/plain": [
       "<Figure size 2400x1200 with 1 Axes>"
      ]
     },
     "metadata": {},
     "output_type": "display_data"
    }
   ],
   "source": [
    "text_fit(X, y, tfidf, LogisticRegression())"
   ]
  }
 ],
 "metadata": {
  "kernelspec": {
   "display_name": "Python 3",
   "language": "python",
   "name": "python3"
  },
  "language_info": {
   "codemirror_mode": {
    "name": "ipython",
    "version": 3
   },
   "file_extension": ".py",
   "mimetype": "text/x-python",
   "name": "python",
   "nbconvert_exporter": "python",
   "pygments_lexer": "ipython3",
   "version": "3.8.8"
  }
 },
 "nbformat": 4,
 "nbformat_minor": 5
}
